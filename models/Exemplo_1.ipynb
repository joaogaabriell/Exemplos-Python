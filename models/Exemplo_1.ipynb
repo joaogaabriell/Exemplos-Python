{
 "cells": [
  {
   "cell_type": "code",
   "id": "initial_id",
   "metadata": {
    "collapsed": true,
    "ExecuteTime": {
     "end_time": "2024-12-03T23:21:55.508915Z",
     "start_time": "2024-12-03T23:21:55.460938Z"
    }
   },
   "source": [
    "num1 = 10\n",
    "num2 = 8\n",
    "\n",
    "somar = num1 + num2\n",
    "sub = num1 - num2\n",
    "mult = num1 * num2\n",
    "div = num1 / num2\n",
    "\n",
    "print('A soma é: ', somar)\n",
    "print('A subtração é: ', sub)\n",
    "print('A multiplicação é: ', mult)\n",
    "print('A divisão é: ', div)\n",
    "\n"
   ],
   "outputs": [
    {
     "name": "stdout",
     "output_type": "stream",
     "text": [
      "A soma é:  18\n",
      "A subtração é:  2\n",
      "A multiplicação é:  80\n",
      "A divisão é:  1.25\n"
     ]
    }
   ],
   "execution_count": 2
  },
  {
   "metadata": {},
   "cell_type": "code",
   "outputs": [],
   "execution_count": null,
   "source": "",
   "id": "c6ad62bdcd43654c"
  }
 ],
 "metadata": {
  "kernelspec": {
   "display_name": "Python 3",
   "language": "python",
   "name": "python3"
  },
  "language_info": {
   "codemirror_mode": {
    "name": "ipython",
    "version": 2
   },
   "file_extension": ".py",
   "mimetype": "text/x-python",
   "name": "python",
   "nbconvert_exporter": "python",
   "pygments_lexer": "ipython2",
   "version": "2.7.6"
  }
 },
 "nbformat": 4,
 "nbformat_minor": 5
}
