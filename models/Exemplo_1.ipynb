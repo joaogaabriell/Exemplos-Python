{
 "cells": [
  {
   "cell_type": "code",
   "id": "initial_id",
   "metadata": {
    "collapsed": true
   },
   "source": [
    "num1 = 10\n",
    "num2 = 8\n",
    "\n",
    "somar = num1 + num2\n",
    "sub = num1 - num2\n",
    "mult = num1 * num2\n",
    "div = num1 / num2\n",
    "\n",
    "print('A soma é: ', somar)\n",
    "print('A subtração é: ', sub)\n",
    "print('A multiplicação é: ', mult)\n",
    "print('A divisão é: ', div)\n",
    "\n"
   ],
   "outputs": [],
   "execution_count": null
  },
  {
   "metadata": {
    "ExecuteTime": {
     "end_time": "2024-12-03T23:26:28.255994Z",
     "start_time": "2024-12-03T23:26:18.877997Z"
    }
   },
   "cell_type": "code",
   "source": [
    "num1 = int(input(\"Digite um número inteiro: \"))\n",
    "num2 = int(input(\"Digite um número inteiro: \"))\n",
    "\n",
    "somar = num1 + num2\n",
    "sub = num1 - num2\n",
    "mult = num1 * num2\n",
    "div = num1 / num2\n",
    "\n",
    "print('A soma é: ', somar)\n",
    "print('A subtração é: ', sub)\n",
    "print('A multiplicação é: ', mult)\n",
    "print('A divisão é: ', div)\n"
   ],
   "id": "43847b71c7d744b0",
   "outputs": [
    {
     "name": "stdout",
     "output_type": "stream",
     "text": [
      "A soma é:  12\n",
      "A subtração é:  8\n",
      "A multiplicação é:  20\n",
      "A divisão é:  5.0\n"
     ]
    }
   ],
   "execution_count": 3
  },
  {
   "metadata": {},
   "cell_type": "code",
   "outputs": [],
   "execution_count": null,
   "source": [
    "num1 = int(input(\"Digite um número: \"))\n",
    "num2 = int(input(\"Digite um número : \"))\n",
    "\n",
    "somar = num1 + num2\n",
    "sub = num1 - num2\n",
    "\n",
    "\n",
    "print('Valor da soma:',somar)\n",
    "if somar >= 10:\n",
    "  print('A soma é maior ou igual a 10')\n",
    "else: print('A soma é menor que 10')\n",
    "\n",
    "print('Valor da sub:', sub)\n",
    "if sub <= 0:\n",
    "  print('A subtração é menor ou igual a 0')\n",
    "else: print('A subtração é maior que 0')"
   ],
   "id": "41765b9af426cd93"
  }
 ],
 "metadata": {
  "kernelspec": {
   "display_name": "Python 3",
   "language": "python",
   "name": "python3"
  },
  "language_info": {
   "codemirror_mode": {
    "name": "ipython",
    "version": 2
   },
   "file_extension": ".py",
   "mimetype": "text/x-python",
   "name": "python",
   "nbconvert_exporter": "python",
   "pygments_lexer": "ipython2",
   "version": "2.7.6"
  }
 },
 "nbformat": 4,
 "nbformat_minor": 5
}
