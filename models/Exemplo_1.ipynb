{
 "cells": [
  {
   "cell_type": "code",
   "id": "initial_id",
   "metadata": {
    "collapsed": true
   },
   "source": [
    "num1 = 10\n",
    "num2 = 8\n",
    "\n",
    "\n",
    "somar = num1 + num2\n",
    "sub = num1 - num2\n",
    "mult = num1 * num2\n",
    "div = num1 / num2\n",
    "\n",
    "print('A soma é: ', somar)\n",
    "print('A subtração é: ', sub)\n",
    "print('A multiplicação é: ', mult)\n",
    "print('A divisão é: ', div)\n",
    "\n"
   ],
   "outputs": [],
   "execution_count": null
  },
  {
   "metadata": {},
   "cell_type": "code",
   "source": [
    "num1 = int(input(\"Digite um número inteiro: \"))\n",
    "num2 = int(input(\"Digite um número inteiro: \"))\n",
    "\n",
    "somar = num1 + num2\n",
    "sub = num1 - num2\n",
    "mult = num1 * num2\n",
    "div = num1 / num2\n",
    "\n",
    "print('A soma é: ', somar)\n",
    "print('A subtração é: ', sub)\n",
    "print('A multiplicação é: ', mult)\n",
    "print('A divisão é: ', div)\n"
   ],
   "id": "43847b71c7d744b0",
   "outputs": [],
   "execution_count": null
  },
  {
   "metadata": {},
   "cell_type": "code",
   "outputs": [],
   "execution_count": null,
   "source": [
    "num1 = int(input(\"Digite um número: \"))\n",
    "num2 = int(input(\"Digite um número : \"))\n",
    "\n",
    "somar = num1 + num2\n",
    "sub = num1 - num2\n",
    "\n",
    "\n",
    "print('Valor da soma:',somar)\n",
    "if somar >= 10:\n",
    "  print('A soma é maior ou igual a 10')\n",
    "else: print('A soma é menor que 10')\n",
    "\n",
    "print('Valor da sub:', sub)\n",
    "if sub <= 0:\n",
    "  print('A subtração é menor ou igual a 0')\n",
    "else: print('A subtração é maior que 0')"
   ],
   "id": "41765b9af426cd93"
  },
  {
   "metadata": {},
   "cell_type": "code",
   "source": [
    "numero = int(input(\"Digite um número inteiro: \"))\n",
    "\n",
    "if numero > 1:  \n",
    "    eh_primo = True\n",
    "    for i in range(2, numero):\n",
    "        if numero % i == 0: \n",
    "            eh_primo = False\n",
    "    if eh_primo:\n",
    "        print(f\"{numero} é um número primo!\")\n",
    "    else:\n",
    "        print(f\"{numero} não é um número primo.\")\n",
    "else:\n",
    "    print(f\"{numero} não é um número primo.\")\n"
   ],
   "id": "bc014eb68f72e8d",
   "outputs": [],
   "execution_count": null
  },
  {
   "metadata": {},
   "cell_type": "code",
   "source": [
    "import random\n",
    "\n",
    "numero_secreto = random.randint(1, 10)\n",
    "chute = 0\n",
    "\n",
    "print(\"Tente adivinhar o número secreto entre 1 e 10!\")\n",
    "\n",
    "while chute != numero_secreto:\n",
    "    chute = int(input(\"Digite seu chute: \"))\n",
    "    if chute < numero_secreto:\n",
    "        print(\"O número é maior!\")\n",
    "    elif chute > numero_secreto:\n",
    "        print(\"O número é menor!\")\n",
    "    else:\n",
    "        print(\"Parabéns, você acertou!\")\n"
   ],
   "id": "2b8c7cefde25607c",
   "outputs": [],
   "execution_count": null
  }
 ],
 "metadata": {
  "kernelspec": {
   "display_name": "Python 3",
   "language": "python",
   "name": "python3"
  },
  "language_info": {
   "codemirror_mode": {
    "name": "ipython",
    "version": 2
   },
   "file_extension": ".py",
   "mimetype": "text/x-python",
   "name": "python",
   "nbconvert_exporter": "python",
   "pygments_lexer": "ipython2",
   "version": "2.7.6"
  }
 },
 "nbformat": 4,
 "nbformat_minor": 5
}
